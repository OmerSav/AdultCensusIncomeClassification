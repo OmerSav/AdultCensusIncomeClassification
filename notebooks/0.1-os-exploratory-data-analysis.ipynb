{
 "cells": [
  {
   "cell_type": "code",
   "execution_count": 1,
   "metadata": {
    "collapsed": true,
    "pycharm": {
     "name": "#%%\n"
    }
   },
   "outputs": [],
   "source": [
    "import numpy as np\n",
    "import pandas as pd\n",
    "import matplotlib.pyplot as plt\n",
    "import seaborn as sns\n",
    "import tabulate"
   ]
  },
  {
   "cell_type": "code",
   "execution_count": 2,
   "outputs": [],
   "source": [
    "from pathlib import Path\n",
    "\n",
    "raw_data_dir = Path('../data/raw/')\n",
    "processed_data_dir = Path('../data/processed/')\n",
    "file_name = 'adult.csv'\n",
    "file_path = raw_data_dir / file_name\n",
    "\n",
    "from src.utils import html_table, categories_show"
   ],
   "metadata": {
    "collapsed": false,
    "pycharm": {
     "name": "#%%\n"
    }
   }
  },
  {
   "cell_type": "code",
   "execution_count": 3,
   "outputs": [
    {
     "data": {
      "text/plain": "   age workclass  fnlwgt     education  education.num marital.status  \\\n0   90         ?   77053       HS-grad              9        Widowed   \n1   82   Private  132870       HS-grad              9        Widowed   \n2   66         ?  186061  Some-college             10        Widowed   \n3   54   Private  140359       7th-8th              4       Divorced   \n4   41   Private  264663  Some-college             10      Separated   \n\n          occupation   relationship   race     sex  capital.gain  \\\n0                  ?  Not-in-family  White  Female             0   \n1    Exec-managerial  Not-in-family  White  Female             0   \n2                  ?      Unmarried  Black  Female             0   \n3  Machine-op-inspct      Unmarried  White  Female             0   \n4     Prof-specialty      Own-child  White  Female             0   \n\n   capital.loss  hours.per.week native.country income  \n0          4356              40  United-States  <=50K  \n1          4356              18  United-States  <=50K  \n2          4356              40  United-States  <=50K  \n3          3900              40  United-States  <=50K  \n4          3900              40  United-States  <=50K  ",
      "text/html": "<div>\n<style scoped>\n    .dataframe tbody tr th:only-of-type {\n        vertical-align: middle;\n    }\n\n    .dataframe tbody tr th {\n        vertical-align: top;\n    }\n\n    .dataframe thead th {\n        text-align: right;\n    }\n</style>\n<table border=\"1\" class=\"dataframe\">\n  <thead>\n    <tr style=\"text-align: right;\">\n      <th></th>\n      <th>age</th>\n      <th>workclass</th>\n      <th>fnlwgt</th>\n      <th>education</th>\n      <th>education.num</th>\n      <th>marital.status</th>\n      <th>occupation</th>\n      <th>relationship</th>\n      <th>race</th>\n      <th>sex</th>\n      <th>capital.gain</th>\n      <th>capital.loss</th>\n      <th>hours.per.week</th>\n      <th>native.country</th>\n      <th>income</th>\n    </tr>\n  </thead>\n  <tbody>\n    <tr>\n      <th>0</th>\n      <td>90</td>\n      <td>?</td>\n      <td>77053</td>\n      <td>HS-grad</td>\n      <td>9</td>\n      <td>Widowed</td>\n      <td>?</td>\n      <td>Not-in-family</td>\n      <td>White</td>\n      <td>Female</td>\n      <td>0</td>\n      <td>4356</td>\n      <td>40</td>\n      <td>United-States</td>\n      <td>&lt;=50K</td>\n    </tr>\n    <tr>\n      <th>1</th>\n      <td>82</td>\n      <td>Private</td>\n      <td>132870</td>\n      <td>HS-grad</td>\n      <td>9</td>\n      <td>Widowed</td>\n      <td>Exec-managerial</td>\n      <td>Not-in-family</td>\n      <td>White</td>\n      <td>Female</td>\n      <td>0</td>\n      <td>4356</td>\n      <td>18</td>\n      <td>United-States</td>\n      <td>&lt;=50K</td>\n    </tr>\n    <tr>\n      <th>2</th>\n      <td>66</td>\n      <td>?</td>\n      <td>186061</td>\n      <td>Some-college</td>\n      <td>10</td>\n      <td>Widowed</td>\n      <td>?</td>\n      <td>Unmarried</td>\n      <td>Black</td>\n      <td>Female</td>\n      <td>0</td>\n      <td>4356</td>\n      <td>40</td>\n      <td>United-States</td>\n      <td>&lt;=50K</td>\n    </tr>\n    <tr>\n      <th>3</th>\n      <td>54</td>\n      <td>Private</td>\n      <td>140359</td>\n      <td>7th-8th</td>\n      <td>4</td>\n      <td>Divorced</td>\n      <td>Machine-op-inspct</td>\n      <td>Unmarried</td>\n      <td>White</td>\n      <td>Female</td>\n      <td>0</td>\n      <td>3900</td>\n      <td>40</td>\n      <td>United-States</td>\n      <td>&lt;=50K</td>\n    </tr>\n    <tr>\n      <th>4</th>\n      <td>41</td>\n      <td>Private</td>\n      <td>264663</td>\n      <td>Some-college</td>\n      <td>10</td>\n      <td>Separated</td>\n      <td>Prof-specialty</td>\n      <td>Own-child</td>\n      <td>White</td>\n      <td>Female</td>\n      <td>0</td>\n      <td>3900</td>\n      <td>40</td>\n      <td>United-States</td>\n      <td>&lt;=50K</td>\n    </tr>\n  </tbody>\n</table>\n</div>"
     },
     "execution_count": 3,
     "metadata": {},
     "output_type": "execute_result"
    }
   ],
   "source": [
    "df = pd.read_csv(file_path)\n",
    "df.head()"
   ],
   "metadata": {
    "collapsed": false,
    "pycharm": {
     "name": "#%%\n"
    }
   }
  },
  {
   "cell_type": "code",
   "execution_count": 4,
   "outputs": [
    {
     "data": {
      "text/plain": "                age        fnlwgt  education.num  capital.gain  capital.loss  \\\ncount  32561.000000  3.256100e+04   32561.000000  32561.000000  32561.000000   \nmean      38.581647  1.897784e+05      10.080679   1077.648844     87.303830   \nstd       13.640433  1.055500e+05       2.572720   7385.292085    402.960219   \nmin       17.000000  1.228500e+04       1.000000      0.000000      0.000000   \n25%       28.000000  1.178270e+05       9.000000      0.000000      0.000000   \n50%       37.000000  1.783560e+05      10.000000      0.000000      0.000000   \n75%       48.000000  2.370510e+05      12.000000      0.000000      0.000000   \nmax       90.000000  1.484705e+06      16.000000  99999.000000   4356.000000   \n\n       hours.per.week  \ncount    32561.000000  \nmean        40.437456  \nstd         12.347429  \nmin          1.000000  \n25%         40.000000  \n50%         40.000000  \n75%         45.000000  \nmax         99.000000  ",
      "text/html": "<div>\n<style scoped>\n    .dataframe tbody tr th:only-of-type {\n        vertical-align: middle;\n    }\n\n    .dataframe tbody tr th {\n        vertical-align: top;\n    }\n\n    .dataframe thead th {\n        text-align: right;\n    }\n</style>\n<table border=\"1\" class=\"dataframe\">\n  <thead>\n    <tr style=\"text-align: right;\">\n      <th></th>\n      <th>age</th>\n      <th>fnlwgt</th>\n      <th>education.num</th>\n      <th>capital.gain</th>\n      <th>capital.loss</th>\n      <th>hours.per.week</th>\n    </tr>\n  </thead>\n  <tbody>\n    <tr>\n      <th>count</th>\n      <td>32561.000000</td>\n      <td>3.256100e+04</td>\n      <td>32561.000000</td>\n      <td>32561.000000</td>\n      <td>32561.000000</td>\n      <td>32561.000000</td>\n    </tr>\n    <tr>\n      <th>mean</th>\n      <td>38.581647</td>\n      <td>1.897784e+05</td>\n      <td>10.080679</td>\n      <td>1077.648844</td>\n      <td>87.303830</td>\n      <td>40.437456</td>\n    </tr>\n    <tr>\n      <th>std</th>\n      <td>13.640433</td>\n      <td>1.055500e+05</td>\n      <td>2.572720</td>\n      <td>7385.292085</td>\n      <td>402.960219</td>\n      <td>12.347429</td>\n    </tr>\n    <tr>\n      <th>min</th>\n      <td>17.000000</td>\n      <td>1.228500e+04</td>\n      <td>1.000000</td>\n      <td>0.000000</td>\n      <td>0.000000</td>\n      <td>1.000000</td>\n    </tr>\n    <tr>\n      <th>25%</th>\n      <td>28.000000</td>\n      <td>1.178270e+05</td>\n      <td>9.000000</td>\n      <td>0.000000</td>\n      <td>0.000000</td>\n      <td>40.000000</td>\n    </tr>\n    <tr>\n      <th>50%</th>\n      <td>37.000000</td>\n      <td>1.783560e+05</td>\n      <td>10.000000</td>\n      <td>0.000000</td>\n      <td>0.000000</td>\n      <td>40.000000</td>\n    </tr>\n    <tr>\n      <th>75%</th>\n      <td>48.000000</td>\n      <td>2.370510e+05</td>\n      <td>12.000000</td>\n      <td>0.000000</td>\n      <td>0.000000</td>\n      <td>45.000000</td>\n    </tr>\n    <tr>\n      <th>max</th>\n      <td>90.000000</td>\n      <td>1.484705e+06</td>\n      <td>16.000000</td>\n      <td>99999.000000</td>\n      <td>4356.000000</td>\n      <td>99.000000</td>\n    </tr>\n  </tbody>\n</table>\n</div>"
     },
     "execution_count": 4,
     "metadata": {},
     "output_type": "execute_result"
    }
   ],
   "source": [
    "df.describe()"
   ],
   "metadata": {
    "collapsed": false,
    "pycharm": {
     "name": "#%%\n"
    }
   }
  },
  {
   "cell_type": "code",
   "execution_count": 5,
   "outputs": [],
   "source": [
    "cat_df = df.select_dtypes('object')\n",
    "num_df = df.select_dtypes(exclude=['object'])"
   ],
   "metadata": {
    "collapsed": false,
    "pycharm": {
     "name": "#%%\n"
    }
   }
  },
  {
   "cell_type": "code",
   "execution_count": 17,
   "outputs": [
    {
     "data": {
      "text/plain": "age               0\nworkclass         0\nfnlwgt            0\neducation         0\neducation.num     0\nmarital.status    0\noccupation        0\nrelationship      0\nrace              0\nsex               0\ncapital.gain      0\ncapital.loss      0\nhours.per.week    0\nnative.country    0\nincome            0\ndtype: int64"
     },
     "execution_count": 17,
     "metadata": {},
     "output_type": "execute_result"
    }
   ],
   "source": [
    "df.isnull().sum().sort_values(ascending=False)"
   ],
   "metadata": {
    "collapsed": false,
    "pycharm": {
     "name": "#%%\n"
    }
   }
  },
  {
   "cell_type": "code",
   "execution_count": 16,
   "outputs": [
    {
     "data": {
      "text/plain": "workclass         0\neducation         0\nmarital.status    0\noccupation        0\nrelationship      0\nrace              0\nsex               0\nnative.country    0\nincome            0\ndtype: int64"
     },
     "execution_count": 16,
     "metadata": {},
     "output_type": "execute_result"
    }
   ],
   "source": [
    "cat_df.isnull().sum().sort_values(ascending=False)"
   ],
   "metadata": {
    "collapsed": false,
    "pycharm": {
     "name": "#%%\n"
    }
   }
  },
  {
   "cell_type": "code",
   "execution_count": 15,
   "outputs": [
    {
     "data": {
      "text/plain": "age               0\nfnlwgt            0\neducation.num     0\ncapital.gain      0\ncapital.loss      0\nhours.per.week    0\ndtype: int64"
     },
     "execution_count": 15,
     "metadata": {},
     "output_type": "execute_result"
    }
   ],
   "source": [
    "num_df.isnull().sum().sort_values(ascending=False)"
   ],
   "metadata": {
    "collapsed": false,
    "pycharm": {
     "name": "#%%\n"
    }
   }
  },
  {
   "cell_type": "code",
   "execution_count": 14,
   "outputs": [
    {
     "data": {
      "text/plain": "capital.loss      31042\ncapital.gain      29849\nage                   0\nfnlwgt                0\neducation.num         0\nhours.per.week        0\ndtype: int64"
     },
     "execution_count": 14,
     "metadata": {},
     "output_type": "execute_result"
    }
   ],
   "source": [
    "(df.select_dtypes(exclude=['object']) == 0).sum().sort_values(ascending=False)"
   ],
   "metadata": {
    "collapsed": false,
    "pycharm": {
     "name": "#%%\n"
    }
   }
  },
  {
   "cell_type": "markdown",
   "source": [
    "categorical.columns"
   ],
   "metadata": {
    "collapsed": false,
    "pycharm": {
     "name": "#%% md\n"
    }
   }
  },
  {
   "cell_type": "code",
   "execution_count": 18,
   "outputs": [
    {
     "data": {
      "text/plain": "<IPython.core.display.HTML object>",
      "text/html": "<table border=\"1\" class=\"dataframe\">\n  <thead>\n    <tr style=\"text-align: right;\">\n      <th></th>\n      <th>0</th>\n    </tr>\n  </thead>\n  <tbody>\n    <tr>\n      <th>native.country</th>\n      <td>42</td>\n    </tr>\n    <tr>\n      <th>education</th>\n      <td>16</td>\n    </tr>\n    <tr>\n      <th>occupation</th>\n      <td>15</td>\n    </tr>\n    <tr>\n      <th>workclass</th>\n      <td>9</td>\n    </tr>\n    <tr>\n      <th>marital.status</th>\n      <td>7</td>\n    </tr>\n    <tr>\n      <th>relationship</th>\n      <td>6</td>\n    </tr>\n    <tr>\n      <th>race</th>\n      <td>5</td>\n    </tr>\n    <tr>\n      <th>sex</th>\n      <td>2</td>\n    </tr>\n    <tr>\n      <th>income</th>\n      <td>2</td>\n    </tr>\n  </tbody>\n</table>"
     },
     "metadata": {},
     "output_type": "display_data"
    },
    {
     "data": {
      "text/plain": "<IPython.core.display.HTML object>",
      "text/html": "<table border=\"1\" class=\"dataframe\">\n  <thead>\n    <tr style=\"text-align: right;\">\n      <th></th>\n      <th>0</th>\n      <th>1</th>\n      <th>2</th>\n      <th>3</th>\n      <th>4</th>\n      <th>5</th>\n      <th>6</th>\n      <th>7</th>\n      <th>8</th>\n      <th>9</th>\n      <th>10</th>\n      <th>11</th>\n      <th>12</th>\n      <th>13</th>\n      <th>14</th>\n      <th>15</th>\n      <th>16</th>\n      <th>17</th>\n      <th>18</th>\n      <th>19</th>\n      <th>20</th>\n      <th>21</th>\n      <th>22</th>\n      <th>23</th>\n      <th>24</th>\n      <th>25</th>\n      <th>26</th>\n      <th>27</th>\n      <th>28</th>\n      <th>29</th>\n      <th>30</th>\n      <th>31</th>\n      <th>32</th>\n      <th>33</th>\n      <th>34</th>\n      <th>35</th>\n      <th>36</th>\n      <th>37</th>\n      <th>38</th>\n      <th>39</th>\n      <th>40</th>\n      <th>41</th>\n    </tr>\n  </thead>\n  <tbody>\n    <tr>\n      <th>native.country</th>\n      <td>United-States</td>\n      <td>?</td>\n      <td>Mexico</td>\n      <td>Greece</td>\n      <td>Vietnam</td>\n      <td>China</td>\n      <td>Taiwan</td>\n      <td>India</td>\n      <td>Philippines</td>\n      <td>Trinadad&amp;Tobago</td>\n      <td>Canada</td>\n      <td>South</td>\n      <td>Holand-Netherlands</td>\n      <td>Puerto-Rico</td>\n      <td>Poland</td>\n      <td>Iran</td>\n      <td>England</td>\n      <td>Germany</td>\n      <td>Italy</td>\n      <td>Japan</td>\n      <td>Hong</td>\n      <td>Honduras</td>\n      <td>Cuba</td>\n      <td>Ireland</td>\n      <td>Cambodia</td>\n      <td>Peru</td>\n      <td>Nicaragua</td>\n      <td>Dominican-Republic</td>\n      <td>Haiti</td>\n      <td>El-Salvador</td>\n      <td>Hungary</td>\n      <td>Columbia</td>\n      <td>Guatemala</td>\n      <td>Jamaica</td>\n      <td>Ecuador</td>\n      <td>France</td>\n      <td>Yugoslavia</td>\n      <td>Scotland</td>\n      <td>Portugal</td>\n      <td>Laos</td>\n      <td>Thailand</td>\n      <td>Outlying-US(Guam-USVI-etc)</td>\n    </tr>\n    <tr>\n      <th>education</th>\n      <td>HS-grad</td>\n      <td>Some-college</td>\n      <td>7th-8th</td>\n      <td>10th</td>\n      <td>Doctorate</td>\n      <td>Prof-school</td>\n      <td>Bachelors</td>\n      <td>Masters</td>\n      <td>11th</td>\n      <td>Assoc-acdm</td>\n      <td>Assoc-voc</td>\n      <td>1st-4th</td>\n      <td>5th-6th</td>\n      <td>12th</td>\n      <td>9th</td>\n      <td>Preschool</td>\n      <td>NaN</td>\n      <td>NaN</td>\n      <td>NaN</td>\n      <td>NaN</td>\n      <td>NaN</td>\n      <td>NaN</td>\n      <td>NaN</td>\n      <td>NaN</td>\n      <td>NaN</td>\n      <td>NaN</td>\n      <td>NaN</td>\n      <td>NaN</td>\n      <td>NaN</td>\n      <td>NaN</td>\n      <td>NaN</td>\n      <td>NaN</td>\n      <td>NaN</td>\n      <td>NaN</td>\n      <td>NaN</td>\n      <td>NaN</td>\n      <td>NaN</td>\n      <td>NaN</td>\n      <td>NaN</td>\n      <td>NaN</td>\n      <td>NaN</td>\n      <td>NaN</td>\n    </tr>\n    <tr>\n      <th>occupation</th>\n      <td>?</td>\n      <td>Exec-managerial</td>\n      <td>Machine-op-inspct</td>\n      <td>Prof-specialty</td>\n      <td>Other-service</td>\n      <td>Adm-clerical</td>\n      <td>Craft-repair</td>\n      <td>Transport-moving</td>\n      <td>Handlers-cleaners</td>\n      <td>Sales</td>\n      <td>Farming-fishing</td>\n      <td>Tech-support</td>\n      <td>Protective-serv</td>\n      <td>Armed-Forces</td>\n      <td>Priv-house-serv</td>\n      <td>NaN</td>\n      <td>NaN</td>\n      <td>NaN</td>\n      <td>NaN</td>\n      <td>NaN</td>\n      <td>NaN</td>\n      <td>NaN</td>\n      <td>NaN</td>\n      <td>NaN</td>\n      <td>NaN</td>\n      <td>NaN</td>\n      <td>NaN</td>\n      <td>NaN</td>\n      <td>NaN</td>\n      <td>NaN</td>\n      <td>NaN</td>\n      <td>NaN</td>\n      <td>NaN</td>\n      <td>NaN</td>\n      <td>NaN</td>\n      <td>NaN</td>\n      <td>NaN</td>\n      <td>NaN</td>\n      <td>NaN</td>\n      <td>NaN</td>\n      <td>NaN</td>\n      <td>NaN</td>\n    </tr>\n    <tr>\n      <th>workclass</th>\n      <td>?</td>\n      <td>Private</td>\n      <td>State-gov</td>\n      <td>Federal-gov</td>\n      <td>Self-emp-not-inc</td>\n      <td>Self-emp-inc</td>\n      <td>Local-gov</td>\n      <td>Without-pay</td>\n      <td>Never-worked</td>\n      <td>NaN</td>\n      <td>NaN</td>\n      <td>NaN</td>\n      <td>NaN</td>\n      <td>NaN</td>\n      <td>NaN</td>\n      <td>NaN</td>\n      <td>NaN</td>\n      <td>NaN</td>\n      <td>NaN</td>\n      <td>NaN</td>\n      <td>NaN</td>\n      <td>NaN</td>\n      <td>NaN</td>\n      <td>NaN</td>\n      <td>NaN</td>\n      <td>NaN</td>\n      <td>NaN</td>\n      <td>NaN</td>\n      <td>NaN</td>\n      <td>NaN</td>\n      <td>NaN</td>\n      <td>NaN</td>\n      <td>NaN</td>\n      <td>NaN</td>\n      <td>NaN</td>\n      <td>NaN</td>\n      <td>NaN</td>\n      <td>NaN</td>\n      <td>NaN</td>\n      <td>NaN</td>\n      <td>NaN</td>\n      <td>NaN</td>\n    </tr>\n    <tr>\n      <th>marital.status</th>\n      <td>Widowed</td>\n      <td>Divorced</td>\n      <td>Separated</td>\n      <td>Never-married</td>\n      <td>Married-civ-spouse</td>\n      <td>Married-spouse-absent</td>\n      <td>Married-AF-spouse</td>\n      <td>NaN</td>\n      <td>NaN</td>\n      <td>NaN</td>\n      <td>NaN</td>\n      <td>NaN</td>\n      <td>NaN</td>\n      <td>NaN</td>\n      <td>NaN</td>\n      <td>NaN</td>\n      <td>NaN</td>\n      <td>NaN</td>\n      <td>NaN</td>\n      <td>NaN</td>\n      <td>NaN</td>\n      <td>NaN</td>\n      <td>NaN</td>\n      <td>NaN</td>\n      <td>NaN</td>\n      <td>NaN</td>\n      <td>NaN</td>\n      <td>NaN</td>\n      <td>NaN</td>\n      <td>NaN</td>\n      <td>NaN</td>\n      <td>NaN</td>\n      <td>NaN</td>\n      <td>NaN</td>\n      <td>NaN</td>\n      <td>NaN</td>\n      <td>NaN</td>\n      <td>NaN</td>\n      <td>NaN</td>\n      <td>NaN</td>\n      <td>NaN</td>\n      <td>NaN</td>\n    </tr>\n    <tr>\n      <th>relationship</th>\n      <td>Not-in-family</td>\n      <td>Unmarried</td>\n      <td>Own-child</td>\n      <td>Other-relative</td>\n      <td>Husband</td>\n      <td>Wife</td>\n      <td>NaN</td>\n      <td>NaN</td>\n      <td>NaN</td>\n      <td>NaN</td>\n      <td>NaN</td>\n      <td>NaN</td>\n      <td>NaN</td>\n      <td>NaN</td>\n      <td>NaN</td>\n      <td>NaN</td>\n      <td>NaN</td>\n      <td>NaN</td>\n      <td>NaN</td>\n      <td>NaN</td>\n      <td>NaN</td>\n      <td>NaN</td>\n      <td>NaN</td>\n      <td>NaN</td>\n      <td>NaN</td>\n      <td>NaN</td>\n      <td>NaN</td>\n      <td>NaN</td>\n      <td>NaN</td>\n      <td>NaN</td>\n      <td>NaN</td>\n      <td>NaN</td>\n      <td>NaN</td>\n      <td>NaN</td>\n      <td>NaN</td>\n      <td>NaN</td>\n      <td>NaN</td>\n      <td>NaN</td>\n      <td>NaN</td>\n      <td>NaN</td>\n      <td>NaN</td>\n      <td>NaN</td>\n    </tr>\n    <tr>\n      <th>race</th>\n      <td>White</td>\n      <td>Black</td>\n      <td>Asian-Pac-Islander</td>\n      <td>Other</td>\n      <td>Amer-Indian-Eskimo</td>\n      <td>NaN</td>\n      <td>NaN</td>\n      <td>NaN</td>\n      <td>NaN</td>\n      <td>NaN</td>\n      <td>NaN</td>\n      <td>NaN</td>\n      <td>NaN</td>\n      <td>NaN</td>\n      <td>NaN</td>\n      <td>NaN</td>\n      <td>NaN</td>\n      <td>NaN</td>\n      <td>NaN</td>\n      <td>NaN</td>\n      <td>NaN</td>\n      <td>NaN</td>\n      <td>NaN</td>\n      <td>NaN</td>\n      <td>NaN</td>\n      <td>NaN</td>\n      <td>NaN</td>\n      <td>NaN</td>\n      <td>NaN</td>\n      <td>NaN</td>\n      <td>NaN</td>\n      <td>NaN</td>\n      <td>NaN</td>\n      <td>NaN</td>\n      <td>NaN</td>\n      <td>NaN</td>\n      <td>NaN</td>\n      <td>NaN</td>\n      <td>NaN</td>\n      <td>NaN</td>\n      <td>NaN</td>\n      <td>NaN</td>\n    </tr>\n    <tr>\n      <th>sex</th>\n      <td>Female</td>\n      <td>Male</td>\n      <td>NaN</td>\n      <td>NaN</td>\n      <td>NaN</td>\n      <td>NaN</td>\n      <td>NaN</td>\n      <td>NaN</td>\n      <td>NaN</td>\n      <td>NaN</td>\n      <td>NaN</td>\n      <td>NaN</td>\n      <td>NaN</td>\n      <td>NaN</td>\n      <td>NaN</td>\n      <td>NaN</td>\n      <td>NaN</td>\n      <td>NaN</td>\n      <td>NaN</td>\n      <td>NaN</td>\n      <td>NaN</td>\n      <td>NaN</td>\n      <td>NaN</td>\n      <td>NaN</td>\n      <td>NaN</td>\n      <td>NaN</td>\n      <td>NaN</td>\n      <td>NaN</td>\n      <td>NaN</td>\n      <td>NaN</td>\n      <td>NaN</td>\n      <td>NaN</td>\n      <td>NaN</td>\n      <td>NaN</td>\n      <td>NaN</td>\n      <td>NaN</td>\n      <td>NaN</td>\n      <td>NaN</td>\n      <td>NaN</td>\n      <td>NaN</td>\n      <td>NaN</td>\n      <td>NaN</td>\n    </tr>\n    <tr>\n      <th>income</th>\n      <td>&lt;=50K</td>\n      <td>&gt;50K</td>\n      <td>NaN</td>\n      <td>NaN</td>\n      <td>NaN</td>\n      <td>NaN</td>\n      <td>NaN</td>\n      <td>NaN</td>\n      <td>NaN</td>\n      <td>NaN</td>\n      <td>NaN</td>\n      <td>NaN</td>\n      <td>NaN</td>\n      <td>NaN</td>\n      <td>NaN</td>\n      <td>NaN</td>\n      <td>NaN</td>\n      <td>NaN</td>\n      <td>NaN</td>\n      <td>NaN</td>\n      <td>NaN</td>\n      <td>NaN</td>\n      <td>NaN</td>\n      <td>NaN</td>\n      <td>NaN</td>\n      <td>NaN</td>\n      <td>NaN</td>\n      <td>NaN</td>\n      <td>NaN</td>\n      <td>NaN</td>\n      <td>NaN</td>\n      <td>NaN</td>\n      <td>NaN</td>\n      <td>NaN</td>\n      <td>NaN</td>\n      <td>NaN</td>\n      <td>NaN</td>\n      <td>NaN</td>\n      <td>NaN</td>\n      <td>NaN</td>\n      <td>NaN</td>\n      <td>NaN</td>\n    </tr>\n  </tbody>\n</table>"
     },
     "metadata": {},
     "output_type": "display_data"
    }
   ],
   "source": [
    "categories_show(cat_df)"
   ],
   "metadata": {
    "collapsed": false,
    "pycharm": {
     "name": "#%%\n"
    }
   }
  },
  {
   "cell_type": "code",
   "execution_count": 19,
   "outputs": [
    {
     "data": {
      "text/plain": "occupation        1843\nworkclass         1836\nnative.country     583\nage                  0\nfnlwgt               0\neducation            0\neducation.num        0\nmarital.status       0\nrelationship         0\nrace                 0\nsex                  0\ncapital.gain         0\ncapital.loss         0\nhours.per.week       0\nincome               0\ndtype: int64"
     },
     "execution_count": 19,
     "metadata": {},
     "output_type": "execute_result"
    }
   ],
   "source": [
    "(df == '?').sum().sort_values(ascending=False)"
   ],
   "metadata": {
    "collapsed": false,
    "pycharm": {
     "name": "#%%\n"
    }
   }
  },
  {
   "cell_type": "code",
   "execution_count": 20,
   "outputs": [],
   "source": [
    "df = df.replace(to_replace='?', value=None)"
   ],
   "metadata": {
    "collapsed": false,
    "pycharm": {
     "name": "#%%\n"
    }
   }
  },
  {
   "cell_type": "code",
   "execution_count": 21,
   "outputs": [
    {
     "data": {
      "text/plain": "occupation        1843\nworkclass         1836\nnative.country     583\nage                  0\nfnlwgt               0\neducation            0\neducation.num        0\nmarital.status       0\nrelationship         0\nrace                 0\nsex                  0\ncapital.gain         0\ncapital.loss         0\nhours.per.week       0\nincome               0\ndtype: int64"
     },
     "execution_count": 21,
     "metadata": {},
     "output_type": "execute_result"
    }
   ],
   "source": [
    "df.isnull().sum().sort_values(ascending=False)"
   ],
   "metadata": {
    "collapsed": false,
    "pycharm": {
     "name": "#%%\n"
    }
   }
  },
  {
   "cell_type": "code",
   "execution_count": 23,
   "outputs": [
    {
     "data": {
      "text/plain": "<AxesSubplot: xlabel='occupation', ylabel='count'>"
     },
     "execution_count": 23,
     "metadata": {},
     "output_type": "execute_result"
    },
    {
     "data": {
      "text/plain": "<Figure size 640x480 with 1 Axes>",
      "image/png": "[encoded data removed]"
     },
     "metadata": {},
     "output_type": "display_data"
    }
   ],
   "source": [
    "sns.countplot(data=df.isnull(), x='occupation', hue='workclass')"
   ],
   "metadata": {
    "collapsed": false,
    "pycharm": {
     "name": "#%%\n"
    }
   }
  },
  {
   "cell_type": "code",
   "execution_count": 24,
   "outputs": [
    {
     "data": {
      "text/plain": "<AxesSubplot: xlabel='occupation', ylabel='count'>"
     },
     "execution_count": 24,
     "metadata": {},
     "output_type": "execute_result"
    },
    {
     "data": {
      "text/plain": "<Figure size 640x480 with 1 Axes>",
      "image/png": "[encoded data removed]"
     },
     "metadata": {},
     "output_type": "display_data"
    }
   ],
   "source": [
    "sns.countplot(data=df.isnull(), x='occupation', hue='native.country')"
   ],
   "metadata": {
    "collapsed": false,
    "pycharm": {
     "name": "#%%\n"
    }
   }
  },
  {
   "cell_type": "code",
   "execution_count": 26,
   "outputs": [
    {
     "data": {
      "text/plain": "       age     workclass  fnlwgt     education  education.num  \\\n8874    18  Never-worked  206359          10th              6   \n13675   23  Never-worked  188535       7th-8th              4   \n17089   17  Never-worked  237272          10th              6   \n21934   18  Never-worked  157131          11th              7   \n24483   20  Never-worked  462294  Some-college             10   \n32331   30  Never-worked  176673       HS-grad              9   \n32338   18  Never-worked  153663  Some-college             10   \n\n           marital.status occupation   relationship   race     sex  \\\n8874        Never-married       None      Own-child  White    Male   \n13675            Divorced       None  Not-in-family  White    Male   \n17089       Never-married       None      Own-child  White    Male   \n21934       Never-married       None      Own-child  White  Female   \n24483       Never-married       None      Own-child  Black    Male   \n32331  Married-civ-spouse       None           Wife  Black  Female   \n32338       Never-married       None      Own-child  White    Male   \n\n       capital.gain  capital.loss  hours.per.week native.country income  \n8874              0             0              40  United-States  <=50K  \n13675             0             0              35  United-States  <=50K  \n17089             0             0              30  United-States  <=50K  \n21934             0             0              10  United-States  <=50K  \n24483             0             0              40  United-States  <=50K  \n32331             0             0              40  United-States  <=50K  \n32338             0             0               4  United-States  <=50K  ",
      "text/html": "<div>\n<style scoped>\n    .dataframe tbody tr th:only-of-type {\n        vertical-align: middle;\n    }\n\n    .dataframe tbody tr th {\n        vertical-align: top;\n    }\n\n    .dataframe thead th {\n        text-align: right;\n    }\n</style>\n<table border=\"1\" class=\"dataframe\">\n  <thead>\n    <tr style=\"text-align: right;\">\n      <th></th>\n      <th>age</th>\n      <th>workclass</th>\n      <th>fnlwgt</th>\n      <th>education</th>\n      <th>education.num</th>\n      <th>marital.status</th>\n      <th>occupation</th>\n      <th>relationship</th>\n      <th>race</th>\n      <th>sex</th>\n      <th>capital.gain</th>\n      <th>capital.loss</th>\n      <th>hours.per.week</th>\n      <th>native.country</th>\n      <th>income</th>\n    </tr>\n  </thead>\n  <tbody>\n    <tr>\n      <th>8874</th>\n      <td>18</td>\n      <td>Never-worked</td>\n      <td>206359</td>\n      <td>10th</td>\n      <td>6</td>\n      <td>Never-married</td>\n      <td>None</td>\n      <td>Own-child</td>\n      <td>White</td>\n      <td>Male</td>\n      <td>0</td>\n      <td>0</td>\n      <td>40</td>\n      <td>United-States</td>\n      <td>&lt;=50K</td>\n    </tr>\n    <tr>\n      <th>13675</th>\n      <td>23</td>\n      <td>Never-worked</td>\n      <td>188535</td>\n      <td>7th-8th</td>\n      <td>4</td>\n      <td>Divorced</td>\n      <td>None</td>\n      <td>Not-in-family</td>\n      <td>White</td>\n      <td>Male</td>\n      <td>0</td>\n      <td>0</td>\n      <td>35</td>\n      <td>United-States</td>\n      <td>&lt;=50K</td>\n    </tr>\n    <tr>\n      <th>17089</th>\n      <td>17</td>\n      <td>Never-worked</td>\n      <td>237272</td>\n      <td>10th</td>\n      <td>6</td>\n      <td>Never-married</td>\n      <td>None</td>\n      <td>Own-child</td>\n      <td>White</td>\n      <td>Male</td>\n      <td>0</td>\n      <td>0</td>\n      <td>30</td>\n      <td>United-States</td>\n      <td>&lt;=50K</td>\n    </tr>\n    <tr>\n      <th>21934</th>\n      <td>18</td>\n      <td>Never-worked</td>\n      <td>157131</td>\n      <td>11th</td>\n      <td>7</td>\n      <td>Never-married</td>\n      <td>None</td>\n      <td>Own-child</td>\n      <td>White</td>\n      <td>Female</td>\n      <td>0</td>\n      <td>0</td>\n      <td>10</td>\n      <td>United-States</td>\n      <td>&lt;=50K</td>\n    </tr>\n    <tr>\n      <th>24483</th>\n      <td>20</td>\n      <td>Never-worked</td>\n      <td>462294</td>\n      <td>Some-college</td>\n      <td>10</td>\n      <td>Never-married</td>\n      <td>None</td>\n      <td>Own-child</td>\n      <td>Black</td>\n      <td>Male</td>\n      <td>0</td>\n      <td>0</td>\n      <td>40</td>\n      <td>United-States</td>\n      <td>&lt;=50K</td>\n    </tr>\n    <tr>\n      <th>32331</th>\n      <td>30</td>\n      <td>Never-worked</td>\n      <td>176673</td>\n      <td>HS-grad</td>\n      <td>9</td>\n      <td>Married-civ-spouse</td>\n      <td>None</td>\n      <td>Wife</td>\n      <td>Black</td>\n      <td>Female</td>\n      <td>0</td>\n      <td>0</td>\n      <td>40</td>\n      <td>United-States</td>\n      <td>&lt;=50K</td>\n    </tr>\n    <tr>\n      <th>32338</th>\n      <td>18</td>\n      <td>Never-worked</td>\n      <td>153663</td>\n      <td>Some-college</td>\n      <td>10</td>\n      <td>Never-married</td>\n      <td>None</td>\n      <td>Own-child</td>\n      <td>White</td>\n      <td>Male</td>\n      <td>0</td>\n      <td>0</td>\n      <td>4</td>\n      <td>United-States</td>\n      <td>&lt;=50K</td>\n    </tr>\n  </tbody>\n</table>\n</div>"
     },
     "execution_count": 26,
     "metadata": {},
     "output_type": "execute_result"
    }
   ],
   "source": [
    "df[df['occupation'].isnull() & ~df['workclass'].isnull()]"
   ],
   "metadata": {
    "collapsed": false,
    "pycharm": {
     "name": "#%%\n"
    }
   }
  },
  {
   "cell_type": "code",
   "execution_count": 27,
   "outputs": [],
   "source": [
    "df['occupation'].fillna('no-occupation', inplace=True)\n",
    "df['workclass'].fillna('Never-worked', inplace=True)"
   ],
   "metadata": {
    "collapsed": false,
    "pycharm": {
     "name": "#%%\n"
    }
   }
  },
  {
   "cell_type": "code",
   "execution_count": 28,
   "outputs": [
    {
     "data": {
      "text/plain": "workclass           0\neducation           0\nmarital.status      0\noccupation          0\nrelationship        0\nrace                0\nsex                 0\nnative.country    583\nincome              0\ndtype: int64"
     },
     "execution_count": 28,
     "metadata": {},
     "output_type": "execute_result"
    }
   ],
   "source": [
    "df.select_dtypes('object').isnull().sum()"
   ],
   "metadata": {
    "collapsed": false,
    "pycharm": {
     "name": "#%%\n"
    }
   }
  },
  {
   "cell_type": "code",
   "execution_count": 33,
   "outputs": [
    {
     "data": {
      "text/plain": "Empty DataFrame\nColumns: [age, workclass, fnlwgt, education, education.num, marital.status, occupation, relationship, race, sex, capital.gain, capital.loss, hours.per.week, native.country, income]\nIndex: []",
      "text/html": "<div>\n<style scoped>\n    .dataframe tbody tr th:only-of-type {\n        vertical-align: middle;\n    }\n\n    .dataframe tbody tr th {\n        vertical-align: top;\n    }\n\n    .dataframe thead th {\n        text-align: right;\n    }\n</style>\n<table border=\"1\" class=\"dataframe\">\n  <thead>\n    <tr style=\"text-align: right;\">\n      <th></th>\n      <th>age</th>\n      <th>workclass</th>\n      <th>fnlwgt</th>\n      <th>education</th>\n      <th>education.num</th>\n      <th>marital.status</th>\n      <th>occupation</th>\n      <th>relationship</th>\n      <th>race</th>\n      <th>sex</th>\n      <th>capital.gain</th>\n      <th>capital.loss</th>\n      <th>hours.per.week</th>\n      <th>native.country</th>\n      <th>income</th>\n    </tr>\n  </thead>\n  <tbody>\n  </tbody>\n</table>\n</div>"
     },
     "execution_count": 33,
     "metadata": {},
     "output_type": "execute_result"
    }
   ],
   "source": [
    "df[df['native.country'].isna()]"
   ],
   "metadata": {
    "collapsed": false,
    "pycharm": {
     "name": "#%%\n"
    }
   }
  },
  {
   "cell_type": "code",
   "execution_count": null,
   "outputs": [],
   "source": [
    "df['native.country'].fillna('others', inplace=True)"
   ],
   "metadata": {
    "collapsed": false,
    "pycharm": {
     "name": "#%%\n"
    }
   }
  },
  {
   "cell_type": "code",
   "execution_count": 34,
   "outputs": [
    {
     "data": {
      "text/plain": "workclass         0\neducation         0\nmarital.status    0\noccupation        0\nrelationship      0\nrace              0\nsex               0\nnative.country    0\nincome            0\ndtype: int64"
     },
     "execution_count": 34,
     "metadata": {},
     "output_type": "execute_result"
    }
   ],
   "source": [
    "df.select_dtypes('object').isnull().sum()"
   ],
   "metadata": {
    "collapsed": false,
    "pycharm": {
     "name": "#%%\n"
    }
   }
  },
  {
   "cell_type": "code",
   "execution_count": 35,
   "outputs": [
    {
     "data": {
      "text/plain": "<IPython.core.display.HTML object>",
      "text/html": "<table border=\"1\" class=\"dataframe\">\n  <thead>\n    <tr style=\"text-align: right;\">\n      <th></th>\n      <th>0</th>\n    </tr>\n  </thead>\n  <tbody>\n    <tr>\n      <th>native.country</th>\n      <td>42</td>\n    </tr>\n    <tr>\n      <th>education</th>\n      <td>16</td>\n    </tr>\n    <tr>\n      <th>occupation</th>\n      <td>15</td>\n    </tr>\n    <tr>\n      <th>workclass</th>\n      <td>8</td>\n    </tr>\n    <tr>\n      <th>marital.status</th>\n      <td>7</td>\n    </tr>\n    <tr>\n      <th>relationship</th>\n      <td>6</td>\n    </tr>\n    <tr>\n      <th>race</th>\n      <td>5</td>\n    </tr>\n    <tr>\n      <th>sex</th>\n      <td>2</td>\n    </tr>\n    <tr>\n      <th>income</th>\n      <td>2</td>\n    </tr>\n  </tbody>\n</table>"
     },
     "metadata": {},
     "output_type": "display_data"
    },
    {
     "data": {
      "text/plain": "<IPython.core.display.HTML object>",
      "text/html": "<table border=\"1\" class=\"dataframe\">\n  <thead>\n    <tr style=\"text-align: right;\">\n      <th></th>\n      <th>0</th>\n      <th>1</th>\n      <th>2</th>\n      <th>3</th>\n      <th>4</th>\n      <th>5</th>\n      <th>6</th>\n      <th>7</th>\n      <th>8</th>\n      <th>9</th>\n      <th>10</th>\n      <th>11</th>\n      <th>12</th>\n      <th>13</th>\n      <th>14</th>\n      <th>15</th>\n      <th>16</th>\n      <th>17</th>\n      <th>18</th>\n      <th>19</th>\n      <th>20</th>\n      <th>21</th>\n      <th>22</th>\n      <th>23</th>\n      <th>24</th>\n      <th>25</th>\n      <th>26</th>\n      <th>27</th>\n      <th>28</th>\n      <th>29</th>\n      <th>30</th>\n      <th>31</th>\n      <th>32</th>\n      <th>33</th>\n      <th>34</th>\n      <th>35</th>\n      <th>36</th>\n      <th>37</th>\n      <th>38</th>\n      <th>39</th>\n      <th>40</th>\n      <th>41</th>\n    </tr>\n  </thead>\n  <tbody>\n    <tr>\n      <th>native.country</th>\n      <td>United-States</td>\n      <td>others</td>\n      <td>Mexico</td>\n      <td>Greece</td>\n      <td>Vietnam</td>\n      <td>China</td>\n      <td>Taiwan</td>\n      <td>India</td>\n      <td>Philippines</td>\n      <td>Trinadad&amp;Tobago</td>\n      <td>Canada</td>\n      <td>South</td>\n      <td>Holand-Netherlands</td>\n      <td>Puerto-Rico</td>\n      <td>Poland</td>\n      <td>Iran</td>\n      <td>England</td>\n      <td>Germany</td>\n      <td>Italy</td>\n      <td>Japan</td>\n      <td>Hong</td>\n      <td>Honduras</td>\n      <td>Cuba</td>\n      <td>Ireland</td>\n      <td>Cambodia</td>\n      <td>Peru</td>\n      <td>Nicaragua</td>\n      <td>Dominican-Republic</td>\n      <td>Haiti</td>\n      <td>El-Salvador</td>\n      <td>Hungary</td>\n      <td>Columbia</td>\n      <td>Guatemala</td>\n      <td>Jamaica</td>\n      <td>Ecuador</td>\n      <td>France</td>\n      <td>Yugoslavia</td>\n      <td>Scotland</td>\n      <td>Portugal</td>\n      <td>Laos</td>\n      <td>Thailand</td>\n      <td>Outlying-US(Guam-USVI-etc)</td>\n    </tr>\n    <tr>\n      <th>education</th>\n      <td>HS-grad</td>\n      <td>Some-college</td>\n      <td>7th-8th</td>\n      <td>10th</td>\n      <td>Doctorate</td>\n      <td>Prof-school</td>\n      <td>Bachelors</td>\n      <td>Masters</td>\n      <td>11th</td>\n      <td>Assoc-acdm</td>\n      <td>Assoc-voc</td>\n      <td>1st-4th</td>\n      <td>5th-6th</td>\n      <td>12th</td>\n      <td>9th</td>\n      <td>Preschool</td>\n      <td>NaN</td>\n      <td>NaN</td>\n      <td>NaN</td>\n      <td>NaN</td>\n      <td>NaN</td>\n      <td>NaN</td>\n      <td>NaN</td>\n      <td>NaN</td>\n      <td>NaN</td>\n      <td>NaN</td>\n      <td>NaN</td>\n      <td>NaN</td>\n      <td>NaN</td>\n      <td>NaN</td>\n      <td>NaN</td>\n      <td>NaN</td>\n      <td>NaN</td>\n      <td>NaN</td>\n      <td>NaN</td>\n      <td>NaN</td>\n      <td>NaN</td>\n      <td>NaN</td>\n      <td>NaN</td>\n      <td>NaN</td>\n      <td>NaN</td>\n      <td>NaN</td>\n    </tr>\n    <tr>\n      <th>occupation</th>\n      <td>no-occupation</td>\n      <td>Exec-managerial</td>\n      <td>Machine-op-inspct</td>\n      <td>Prof-specialty</td>\n      <td>Other-service</td>\n      <td>Adm-clerical</td>\n      <td>Craft-repair</td>\n      <td>Transport-moving</td>\n      <td>Handlers-cleaners</td>\n      <td>Sales</td>\n      <td>Farming-fishing</td>\n      <td>Tech-support</td>\n      <td>Protective-serv</td>\n      <td>Armed-Forces</td>\n      <td>Priv-house-serv</td>\n      <td>NaN</td>\n      <td>NaN</td>\n      <td>NaN</td>\n      <td>NaN</td>\n      <td>NaN</td>\n      <td>NaN</td>\n      <td>NaN</td>\n      <td>NaN</td>\n      <td>NaN</td>\n      <td>NaN</td>\n      <td>NaN</td>\n      <td>NaN</td>\n      <td>NaN</td>\n      <td>NaN</td>\n      <td>NaN</td>\n      <td>NaN</td>\n      <td>NaN</td>\n      <td>NaN</td>\n      <td>NaN</td>\n      <td>NaN</td>\n      <td>NaN</td>\n      <td>NaN</td>\n      <td>NaN</td>\n      <td>NaN</td>\n      <td>NaN</td>\n      <td>NaN</td>\n      <td>NaN</td>\n    </tr>\n    <tr>\n      <th>workclass</th>\n      <td>Never-worked</td>\n      <td>Private</td>\n      <td>State-gov</td>\n      <td>Federal-gov</td>\n      <td>Self-emp-not-inc</td>\n      <td>Self-emp-inc</td>\n      <td>Local-gov</td>\n      <td>Without-pay</td>\n      <td>NaN</td>\n      <td>NaN</td>\n      <td>NaN</td>\n      <td>NaN</td>\n      <td>NaN</td>\n      <td>NaN</td>\n      <td>NaN</td>\n      <td>NaN</td>\n      <td>NaN</td>\n      <td>NaN</td>\n      <td>NaN</td>\n      <td>NaN</td>\n      <td>NaN</td>\n      <td>NaN</td>\n      <td>NaN</td>\n      <td>NaN</td>\n      <td>NaN</td>\n      <td>NaN</td>\n      <td>NaN</td>\n      <td>NaN</td>\n      <td>NaN</td>\n      <td>NaN</td>\n      <td>NaN</td>\n      <td>NaN</td>\n      <td>NaN</td>\n      <td>NaN</td>\n      <td>NaN</td>\n      <td>NaN</td>\n      <td>NaN</td>\n      <td>NaN</td>\n      <td>NaN</td>\n      <td>NaN</td>\n      <td>NaN</td>\n      <td>NaN</td>\n    </tr>\n    <tr>\n      <th>marital.status</th>\n      <td>Widowed</td>\n      <td>Divorced</td>\n      <td>Separated</td>\n      <td>Never-married</td>\n      <td>Married-civ-spouse</td>\n      <td>Married-spouse-absent</td>\n      <td>Married-AF-spouse</td>\n      <td>NaN</td>\n      <td>NaN</td>\n      <td>NaN</td>\n      <td>NaN</td>\n      <td>NaN</td>\n      <td>NaN</td>\n      <td>NaN</td>\n      <td>NaN</td>\n      <td>NaN</td>\n      <td>NaN</td>\n      <td>NaN</td>\n      <td>NaN</td>\n      <td>NaN</td>\n      <td>NaN</td>\n      <td>NaN</td>\n      <td>NaN</td>\n      <td>NaN</td>\n      <td>NaN</td>\n      <td>NaN</td>\n      <td>NaN</td>\n      <td>NaN</td>\n      <td>NaN</td>\n      <td>NaN</td>\n      <td>NaN</td>\n      <td>NaN</td>\n      <td>NaN</td>\n      <td>NaN</td>\n      <td>NaN</td>\n      <td>NaN</td>\n      <td>NaN</td>\n      <td>NaN</td>\n      <td>NaN</td>\n      <td>NaN</td>\n      <td>NaN</td>\n      <td>NaN</td>\n    </tr>\n    <tr>\n      <th>relationship</th>\n      <td>Not-in-family</td>\n      <td>Unmarried</td>\n      <td>Own-child</td>\n      <td>Other-relative</td>\n      <td>Husband</td>\n      <td>Wife</td>\n      <td>NaN</td>\n      <td>NaN</td>\n      <td>NaN</td>\n      <td>NaN</td>\n      <td>NaN</td>\n      <td>NaN</td>\n      <td>NaN</td>\n      <td>NaN</td>\n      <td>NaN</td>\n      <td>NaN</td>\n      <td>NaN</td>\n      <td>NaN</td>\n      <td>NaN</td>\n      <td>NaN</td>\n      <td>NaN</td>\n      <td>NaN</td>\n      <td>NaN</td>\n      <td>NaN</td>\n      <td>NaN</td>\n      <td>NaN</td>\n      <td>NaN</td>\n      <td>NaN</td>\n      <td>NaN</td>\n      <td>NaN</td>\n      <td>NaN</td>\n      <td>NaN</td>\n      <td>NaN</td>\n      <td>NaN</td>\n      <td>NaN</td>\n      <td>NaN</td>\n      <td>NaN</td>\n      <td>NaN</td>\n      <td>NaN</td>\n      <td>NaN</td>\n      <td>NaN</td>\n      <td>NaN</td>\n    </tr>\n    <tr>\n      <th>race</th>\n      <td>White</td>\n      <td>Black</td>\n      <td>Asian-Pac-Islander</td>\n      <td>Other</td>\n      <td>Amer-Indian-Eskimo</td>\n      <td>NaN</td>\n      <td>NaN</td>\n      <td>NaN</td>\n      <td>NaN</td>\n      <td>NaN</td>\n      <td>NaN</td>\n      <td>NaN</td>\n      <td>NaN</td>\n      <td>NaN</td>\n      <td>NaN</td>\n      <td>NaN</td>\n      <td>NaN</td>\n      <td>NaN</td>\n      <td>NaN</td>\n      <td>NaN</td>\n      <td>NaN</td>\n      <td>NaN</td>\n      <td>NaN</td>\n      <td>NaN</td>\n      <td>NaN</td>\n      <td>NaN</td>\n      <td>NaN</td>\n      <td>NaN</td>\n      <td>NaN</td>\n      <td>NaN</td>\n      <td>NaN</td>\n      <td>NaN</td>\n      <td>NaN</td>\n      <td>NaN</td>\n      <td>NaN</td>\n      <td>NaN</td>\n      <td>NaN</td>\n      <td>NaN</td>\n      <td>NaN</td>\n      <td>NaN</td>\n      <td>NaN</td>\n      <td>NaN</td>\n    </tr>\n    <tr>\n      <th>sex</th>\n      <td>Female</td>\n      <td>Male</td>\n      <td>NaN</td>\n      <td>NaN</td>\n      <td>NaN</td>\n      <td>NaN</td>\n      <td>NaN</td>\n      <td>NaN</td>\n      <td>NaN</td>\n      <td>NaN</td>\n      <td>NaN</td>\n      <td>NaN</td>\n      <td>NaN</td>\n      <td>NaN</td>\n      <td>NaN</td>\n      <td>NaN</td>\n      <td>NaN</td>\n      <td>NaN</td>\n      <td>NaN</td>\n      <td>NaN</td>\n      <td>NaN</td>\n      <td>NaN</td>\n      <td>NaN</td>\n      <td>NaN</td>\n      <td>NaN</td>\n      <td>NaN</td>\n      <td>NaN</td>\n      <td>NaN</td>\n      <td>NaN</td>\n      <td>NaN</td>\n      <td>NaN</td>\n      <td>NaN</td>\n      <td>NaN</td>\n      <td>NaN</td>\n      <td>NaN</td>\n      <td>NaN</td>\n      <td>NaN</td>\n      <td>NaN</td>\n      <td>NaN</td>\n      <td>NaN</td>\n      <td>NaN</td>\n      <td>NaN</td>\n    </tr>\n    <tr>\n      <th>income</th>\n      <td>&lt;=50K</td>\n      <td>&gt;50K</td>\n      <td>NaN</td>\n      <td>NaN</td>\n      <td>NaN</td>\n      <td>NaN</td>\n      <td>NaN</td>\n      <td>NaN</td>\n      <td>NaN</td>\n      <td>NaN</td>\n      <td>NaN</td>\n      <td>NaN</td>\n      <td>NaN</td>\n      <td>NaN</td>\n      <td>NaN</td>\n      <td>NaN</td>\n      <td>NaN</td>\n      <td>NaN</td>\n      <td>NaN</td>\n      <td>NaN</td>\n      <td>NaN</td>\n      <td>NaN</td>\n      <td>NaN</td>\n      <td>NaN</td>\n      <td>NaN</td>\n      <td>NaN</td>\n      <td>NaN</td>\n      <td>NaN</td>\n      <td>NaN</td>\n      <td>NaN</td>\n      <td>NaN</td>\n      <td>NaN</td>\n      <td>NaN</td>\n      <td>NaN</td>\n      <td>NaN</td>\n      <td>NaN</td>\n      <td>NaN</td>\n      <td>NaN</td>\n      <td>NaN</td>\n      <td>NaN</td>\n      <td>NaN</td>\n      <td>NaN</td>\n    </tr>\n  </tbody>\n</table>"
     },
     "metadata": {},
     "output_type": "display_data"
    }
   ],
   "source": [
    "categories_show(df.select_dtypes('object'))"
   ],
   "metadata": {
    "collapsed": false,
    "pycharm": {
     "name": "#%%\n"
    }
   }
  },
  {
   "cell_type": "code",
   "execution_count": 37,
   "outputs": [
    {
     "name": "stderr",
     "output_type": "stream",
     "text": [
      "C:\\Users\\omers\\AppData\\Local\\Temp\\ipykernel_24556\\1134722465.py:1: FutureWarning: The default value of numeric_only in DataFrame.corr is deprecated. In a future version, it will default to False. Select only valid columns or specify the value of numeric_only to silence this warning.\n",
      "  df.corr()\n"
     ]
    },
    {
     "data": {
      "text/plain": "                     age    fnlwgt  education.num  capital.gain  capital.loss  \\\nage             1.000000 -0.076646       0.036527      0.077674      0.057775   \nfnlwgt         -0.076646  1.000000      -0.043195      0.000432     -0.010252   \neducation.num   0.036527 -0.043195       1.000000      0.122630      0.079923   \ncapital.gain    0.077674  0.000432       0.122630      1.000000     -0.031615   \ncapital.loss    0.057775 -0.010252       0.079923     -0.031615      1.000000   \nhours.per.week  0.068756 -0.018768       0.148123      0.078409      0.054256   \n\n                hours.per.week  \nage                   0.068756  \nfnlwgt               -0.018768  \neducation.num         0.148123  \ncapital.gain          0.078409  \ncapital.loss          0.054256  \nhours.per.week        1.000000  ",
      "text/html": "<div>\n<style scoped>\n    .dataframe tbody tr th:only-of-type {\n        vertical-align: middle;\n    }\n\n    .dataframe tbody tr th {\n        vertical-align: top;\n    }\n\n    .dataframe thead th {\n        text-align: right;\n    }\n</style>\n<table border=\"1\" class=\"dataframe\">\n  <thead>\n    <tr style=\"text-align: right;\">\n      <th></th>\n      <th>age</th>\n      <th>fnlwgt</th>\n      <th>education.num</th>\n      <th>capital.gain</th>\n      <th>capital.loss</th>\n      <th>hours.per.week</th>\n    </tr>\n  </thead>\n  <tbody>\n    <tr>\n      <th>age</th>\n      <td>1.000000</td>\n      <td>-0.076646</td>\n      <td>0.036527</td>\n      <td>0.077674</td>\n      <td>0.057775</td>\n      <td>0.068756</td>\n    </tr>\n    <tr>\n      <th>fnlwgt</th>\n      <td>-0.076646</td>\n      <td>1.000000</td>\n      <td>-0.043195</td>\n      <td>0.000432</td>\n      <td>-0.010252</td>\n      <td>-0.018768</td>\n    </tr>\n    <tr>\n      <th>education.num</th>\n      <td>0.036527</td>\n      <td>-0.043195</td>\n      <td>1.000000</td>\n      <td>0.122630</td>\n      <td>0.079923</td>\n      <td>0.148123</td>\n    </tr>\n    <tr>\n      <th>capital.gain</th>\n      <td>0.077674</td>\n      <td>0.000432</td>\n      <td>0.122630</td>\n      <td>1.000000</td>\n      <td>-0.031615</td>\n      <td>0.078409</td>\n    </tr>\n    <tr>\n      <th>capital.loss</th>\n      <td>0.057775</td>\n      <td>-0.010252</td>\n      <td>0.079923</td>\n      <td>-0.031615</td>\n      <td>1.000000</td>\n      <td>0.054256</td>\n    </tr>\n    <tr>\n      <th>hours.per.week</th>\n      <td>0.068756</td>\n      <td>-0.018768</td>\n      <td>0.148123</td>\n      <td>0.078409</td>\n      <td>0.054256</td>\n      <td>1.000000</td>\n    </tr>\n  </tbody>\n</table>\n</div>"
     },
     "execution_count": 37,
     "metadata": {},
     "output_type": "execute_result"
    }
   ],
   "source": [
    "df.corr()"
   ],
   "metadata": {
    "collapsed": false,
    "pycharm": {
     "name": "#%%\n"
    }
   }
  },
  {
   "cell_type": "code",
   "execution_count": 38,
   "outputs": [
    {
     "name": "stdout",
     "output_type": "stream",
     "text": [
      "<class 'pandas.core.frame.DataFrame'>\n",
      "RangeIndex: 32561 entries, 0 to 32560\n",
      "Data columns (total 100 columns):\n",
      " #   Column                                     Non-Null Count  Dtype\n",
      "---  ------                                     --------------  -----\n",
      " 0   age                                        32561 non-null  int64\n",
      " 1   fnlwgt                                     32561 non-null  int64\n",
      " 2   education.num                              32561 non-null  int64\n",
      " 3   capital.gain                               32561 non-null  int64\n",
      " 4   capital.loss                               32561 non-null  int64\n",
      " 5   hours.per.week                             32561 non-null  int64\n",
      " 6   workclass_Local-gov                        32561 non-null  uint8\n",
      " 7   workclass_Never-worked                     32561 non-null  uint8\n",
      " 8   workclass_Private                          32561 non-null  uint8\n",
      " 9   workclass_Self-emp-inc                     32561 non-null  uint8\n",
      " 10  workclass_Self-emp-not-inc                 32561 non-null  uint8\n",
      " 11  workclass_State-gov                        32561 non-null  uint8\n",
      " 12  workclass_Without-pay                      32561 non-null  uint8\n",
      " 13  education_11th                             32561 non-null  uint8\n",
      " 14  education_12th                             32561 non-null  uint8\n",
      " 15  education_1st-4th                          32561 non-null  uint8\n",
      " 16  education_5th-6th                          32561 non-null  uint8\n",
      " 17  education_7th-8th                          32561 non-null  uint8\n",
      " 18  education_9th                              32561 non-null  uint8\n",
      " 19  education_Assoc-acdm                       32561 non-null  uint8\n",
      " 20  education_Assoc-voc                        32561 non-null  uint8\n",
      " 21  education_Bachelors                        32561 non-null  uint8\n",
      " 22  education_Doctorate                        32561 non-null  uint8\n",
      " 23  education_HS-grad                          32561 non-null  uint8\n",
      " 24  education_Masters                          32561 non-null  uint8\n",
      " 25  education_Preschool                        32561 non-null  uint8\n",
      " 26  education_Prof-school                      32561 non-null  uint8\n",
      " 27  education_Some-college                     32561 non-null  uint8\n",
      " 28  marital.status_Married-AF-spouse           32561 non-null  uint8\n",
      " 29  marital.status_Married-civ-spouse          32561 non-null  uint8\n",
      " 30  marital.status_Married-spouse-absent       32561 non-null  uint8\n",
      " 31  marital.status_Never-married               32561 non-null  uint8\n",
      " 32  marital.status_Separated                   32561 non-null  uint8\n",
      " 33  marital.status_Widowed                     32561 non-null  uint8\n",
      " 34  occupation_Armed-Forces                    32561 non-null  uint8\n",
      " 35  occupation_Craft-repair                    32561 non-null  uint8\n",
      " 36  occupation_Exec-managerial                 32561 non-null  uint8\n",
      " 37  occupation_Farming-fishing                 32561 non-null  uint8\n",
      " 38  occupation_Handlers-cleaners               32561 non-null  uint8\n",
      " 39  occupation_Machine-op-inspct               32561 non-null  uint8\n",
      " 40  occupation_Other-service                   32561 non-null  uint8\n",
      " 41  occupation_Priv-house-serv                 32561 non-null  uint8\n",
      " 42  occupation_Prof-specialty                  32561 non-null  uint8\n",
      " 43  occupation_Protective-serv                 32561 non-null  uint8\n",
      " 44  occupation_Sales                           32561 non-null  uint8\n",
      " 45  occupation_Tech-support                    32561 non-null  uint8\n",
      " 46  occupation_Transport-moving                32561 non-null  uint8\n",
      " 47  occupation_no-occupation                   32561 non-null  uint8\n",
      " 48  relationship_Not-in-family                 32561 non-null  uint8\n",
      " 49  relationship_Other-relative                32561 non-null  uint8\n",
      " 50  relationship_Own-child                     32561 non-null  uint8\n",
      " 51  relationship_Unmarried                     32561 non-null  uint8\n",
      " 52  relationship_Wife                          32561 non-null  uint8\n",
      " 53  race_Asian-Pac-Islander                    32561 non-null  uint8\n",
      " 54  race_Black                                 32561 non-null  uint8\n",
      " 55  race_Other                                 32561 non-null  uint8\n",
      " 56  race_White                                 32561 non-null  uint8\n",
      " 57  sex_Male                                   32561 non-null  uint8\n",
      " 58  native.country_Canada                      32561 non-null  uint8\n",
      " 59  native.country_China                       32561 non-null  uint8\n",
      " 60  native.country_Columbia                    32561 non-null  uint8\n",
      " 61  native.country_Cuba                        32561 non-null  uint8\n",
      " 62  native.country_Dominican-Republic          32561 non-null  uint8\n",
      " 63  native.country_Ecuador                     32561 non-null  uint8\n",
      " 64  native.country_El-Salvador                 32561 non-null  uint8\n",
      " 65  native.country_England                     32561 non-null  uint8\n",
      " 66  native.country_France                      32561 non-null  uint8\n",
      " 67  native.country_Germany                     32561 non-null  uint8\n",
      " 68  native.country_Greece                      32561 non-null  uint8\n",
      " 69  native.country_Guatemala                   32561 non-null  uint8\n",
      " 70  native.country_Haiti                       32561 non-null  uint8\n",
      " 71  native.country_Holand-Netherlands          32561 non-null  uint8\n",
      " 72  native.country_Honduras                    32561 non-null  uint8\n",
      " 73  native.country_Hong                        32561 non-null  uint8\n",
      " 74  native.country_Hungary                     32561 non-null  uint8\n",
      " 75  native.country_India                       32561 non-null  uint8\n",
      " 76  native.country_Iran                        32561 non-null  uint8\n",
      " 77  native.country_Ireland                     32561 non-null  uint8\n",
      " 78  native.country_Italy                       32561 non-null  uint8\n",
      " 79  native.country_Jamaica                     32561 non-null  uint8\n",
      " 80  native.country_Japan                       32561 non-null  uint8\n",
      " 81  native.country_Laos                        32561 non-null  uint8\n",
      " 82  native.country_Mexico                      32561 non-null  uint8\n",
      " 83  native.country_Nicaragua                   32561 non-null  uint8\n",
      " 84  native.country_Outlying-US(Guam-USVI-etc)  32561 non-null  uint8\n",
      " 85  native.country_Peru                        32561 non-null  uint8\n",
      " 86  native.country_Philippines                 32561 non-null  uint8\n",
      " 87  native.country_Poland                      32561 non-null  uint8\n",
      " 88  native.country_Portugal                    32561 non-null  uint8\n",
      " 89  native.country_Puerto-Rico                 32561 non-null  uint8\n",
      " 90  native.country_Scotland                    32561 non-null  uint8\n",
      " 91  native.country_South                       32561 non-null  uint8\n",
      " 92  native.country_Taiwan                      32561 non-null  uint8\n",
      " 93  native.country_Thailand                    32561 non-null  uint8\n",
      " 94  native.country_Trinadad&Tobago             32561 non-null  uint8\n",
      " 95  native.country_United-States               32561 non-null  uint8\n",
      " 96  native.country_Vietnam                     32561 non-null  uint8\n",
      " 97  native.country_Yugoslavia                  32561 non-null  uint8\n",
      " 98  native.country_others                      32561 non-null  uint8\n",
      " 99  income_>50K                                32561 non-null  uint8\n",
      "dtypes: int64(6), uint8(94)\n",
      "memory usage: 4.4 MB\n"
     ]
    },
    {
     "data": {
      "text/plain": "       age  fnlwgt  education.num  capital.gain  capital.loss  hours.per.week  \\\n0       90   77053              9             0          4356              40   \n1       82  132870              9             0          4356              18   \n2       66  186061             10             0          4356              40   \n3       54  140359              4             0          3900              40   \n4       41  264663             10             0          3900              40   \n...    ...     ...            ...           ...           ...             ...   \n32556   22  310152             10             0             0              40   \n32557   27  257302             12             0             0              38   \n32558   40  154374              9             0             0              40   \n32559   58  151910              9             0             0              40   \n32560   22  201490              9             0             0              20   \n\n       workclass_Local-gov  workclass_Never-worked  workclass_Private  \\\n0                        0                       1                  0   \n1                        0                       0                  1   \n2                        0                       1                  0   \n3                        0                       0                  1   \n4                        0                       0                  1   \n...                    ...                     ...                ...   \n32556                    0                       0                  1   \n32557                    0                       0                  1   \n32558                    0                       0                  1   \n32559                    0                       0                  1   \n32560                    0                       0                  1   \n\n       workclass_Self-emp-inc  ...  native.country_Scotland  \\\n0                           0  ...                        0   \n1                           0  ...                        0   \n2                           0  ...                        0   \n3                           0  ...                        0   \n4                           0  ...                        0   \n...                       ...  ...                      ...   \n32556                       0  ...                        0   \n32557                       0  ...                        0   \n32558                       0  ...                        0   \n32559                       0  ...                        0   \n32560                       0  ...                        0   \n\n       native.country_South  native.country_Taiwan  native.country_Thailand  \\\n0                         0                      0                        0   \n1                         0                      0                        0   \n2                         0                      0                        0   \n3                         0                      0                        0   \n4                         0                      0                        0   \n...                     ...                    ...                      ...   \n32556                     0                      0                        0   \n32557                     0                      0                        0   \n32558                     0                      0                        0   \n32559                     0                      0                        0   \n32560                     0                      0                        0   \n\n       native.country_Trinadad&Tobago  native.country_United-States  \\\n0                                   0                             1   \n1                                   0                             1   \n2                                   0                             1   \n3                                   0                             1   \n4                                   0                             1   \n...                               ...                           ...   \n32556                               0                             1   \n32557                               0                             1   \n32558                               0                             1   \n32559                               0                             1   \n32560                               0                             1   \n\n       native.country_Vietnam  native.country_Yugoslavia  \\\n0                           0                          0   \n1                           0                          0   \n2                           0                          0   \n3                           0                          0   \n4                           0                          0   \n...                       ...                        ...   \n32556                       0                          0   \n32557                       0                          0   \n32558                       0                          0   \n32559                       0                          0   \n32560                       0                          0   \n\n       native.country_others  income_>50K  \n0                          0            0  \n1                          0            0  \n2                          0            0  \n3                          0            0  \n4                          0            0  \n...                      ...          ...  \n32556                      0            0  \n32557                      0            0  \n32558                      0            1  \n32559                      0            0  \n32560                      0            0  \n\n[32561 rows x 100 columns]",
      "text/html": "<div>\n<style scoped>\n    .dataframe tbody tr th:only-of-type {\n        vertical-align: middle;\n    }\n\n    .dataframe tbody tr th {\n        vertical-align: top;\n    }\n\n    .dataframe thead th {\n        text-align: right;\n    }\n</style>\n<table border=\"1\" class=\"dataframe\">\n  <thead>\n    <tr style=\"text-align: right;\">\n      <th></th>\n      <th>age</th>\n      <th>fnlwgt</th>\n      <th>education.num</th>\n      <th>capital.gain</th>\n      <th>capital.loss</th>\n      <th>hours.per.week</th>\n      <th>workclass_Local-gov</th>\n      <th>workclass_Never-worked</th>\n      <th>workclass_Private</th>\n      <th>workclass_Self-emp-inc</th>\n      <th>...</th>\n      <th>native.country_Scotland</th>\n      <th>native.country_South</th>\n      <th>native.country_Taiwan</th>\n      <th>native.country_Thailand</th>\n      <th>native.country_Trinadad&amp;Tobago</th>\n      <th>native.country_United-States</th>\n      <th>native.country_Vietnam</th>\n      <th>native.country_Yugoslavia</th>\n      <th>native.country_others</th>\n      <th>income_&gt;50K</th>\n    </tr>\n  </thead>\n  <tbody>\n    <tr>\n      <th>0</th>\n      <td>90</td>\n      <td>77053</td>\n      <td>9</td>\n      <td>0</td>\n      <td>4356</td>\n      <td>40</td>\n      <td>0</td>\n      <td>1</td>\n      <td>0</td>\n      <td>0</td>\n      <td>...</td>\n      <td>0</td>\n      <td>0</td>\n      <td>0</td>\n      <td>0</td>\n      <td>0</td>\n      <td>1</td>\n      <td>0</td>\n      <td>0</td>\n      <td>0</td>\n      <td>0</td>\n    </tr>\n    <tr>\n      <th>1</th>\n      <td>82</td>\n      <td>132870</td>\n      <td>9</td>\n      <td>0</td>\n      <td>4356</td>\n      <td>18</td>\n      <td>0</td>\n      <td>0</td>\n      <td>1</td>\n      <td>0</td>\n      <td>...</td>\n      <td>0</td>\n      <td>0</td>\n      <td>0</td>\n      <td>0</td>\n      <td>0</td>\n      <td>1</td>\n      <td>0</td>\n      <td>0</td>\n      <td>0</td>\n      <td>0</td>\n    </tr>\n    <tr>\n      <th>2</th>\n      <td>66</td>\n      <td>186061</td>\n      <td>10</td>\n      <td>0</td>\n      <td>4356</td>\n      <td>40</td>\n      <td>0</td>\n      <td>1</td>\n      <td>0</td>\n      <td>0</td>\n      <td>...</td>\n      <td>0</td>\n      <td>0</td>\n      <td>0</td>\n      <td>0</td>\n      <td>0</td>\n      <td>1</td>\n      <td>0</td>\n      <td>0</td>\n      <td>0</td>\n      <td>0</td>\n    </tr>\n    <tr>\n      <th>3</th>\n      <td>54</td>\n      <td>140359</td>\n      <td>4</td>\n      <td>0</td>\n      <td>3900</td>\n      <td>40</td>\n      <td>0</td>\n      <td>0</td>\n      <td>1</td>\n      <td>0</td>\n      <td>...</td>\n      <td>0</td>\n      <td>0</td>\n      <td>0</td>\n      <td>0</td>\n      <td>0</td>\n      <td>1</td>\n      <td>0</td>\n      <td>0</td>\n      <td>0</td>\n      <td>0</td>\n    </tr>\n    <tr>\n      <th>4</th>\n      <td>41</td>\n      <td>264663</td>\n      <td>10</td>\n      <td>0</td>\n      <td>3900</td>\n      <td>40</td>\n      <td>0</td>\n      <td>0</td>\n      <td>1</td>\n      <td>0</td>\n      <td>...</td>\n      <td>0</td>\n      <td>0</td>\n      <td>0</td>\n      <td>0</td>\n      <td>0</td>\n      <td>1</td>\n      <td>0</td>\n      <td>0</td>\n      <td>0</td>\n      <td>0</td>\n    </tr>\n    <tr>\n      <th>...</th>\n      <td>...</td>\n      <td>...</td>\n      <td>...</td>\n      <td>...</td>\n      <td>...</td>\n      <td>...</td>\n      <td>...</td>\n      <td>...</td>\n      <td>...</td>\n      <td>...</td>\n      <td>...</td>\n      <td>...</td>\n      <td>...</td>\n      <td>...</td>\n      <td>...</td>\n      <td>...</td>\n      <td>...</td>\n      <td>...</td>\n      <td>...</td>\n      <td>...</td>\n      <td>...</td>\n    </tr>\n    <tr>\n      <th>32556</th>\n      <td>22</td>\n      <td>310152</td>\n      <td>10</td>\n      <td>0</td>\n      <td>0</td>\n      <td>40</td>\n      <td>0</td>\n      <td>0</td>\n      <td>1</td>\n      <td>0</td>\n      <td>...</td>\n      <td>0</td>\n      <td>0</td>\n      <td>0</td>\n      <td>0</td>\n      <td>0</td>\n      <td>1</td>\n      <td>0</td>\n      <td>0</td>\n      <td>0</td>\n      <td>0</td>\n    </tr>\n    <tr>\n      <th>32557</th>\n      <td>27</td>\n      <td>257302</td>\n      <td>12</td>\n      <td>0</td>\n      <td>0</td>\n      <td>38</td>\n      <td>0</td>\n      <td>0</td>\n      <td>1</td>\n      <td>0</td>\n      <td>...</td>\n      <td>0</td>\n      <td>0</td>\n      <td>0</td>\n      <td>0</td>\n      <td>0</td>\n      <td>1</td>\n      <td>0</td>\n      <td>0</td>\n      <td>0</td>\n      <td>0</td>\n    </tr>\n    <tr>\n      <th>32558</th>\n      <td>40</td>\n      <td>154374</td>\n      <td>9</td>\n      <td>0</td>\n      <td>0</td>\n      <td>40</td>\n      <td>0</td>\n      <td>0</td>\n      <td>1</td>\n      <td>0</td>\n      <td>...</td>\n      <td>0</td>\n      <td>0</td>\n      <td>0</td>\n      <td>0</td>\n      <td>0</td>\n      <td>1</td>\n      <td>0</td>\n      <td>0</td>\n      <td>0</td>\n      <td>1</td>\n    </tr>\n    <tr>\n      <th>32559</th>\n      <td>58</td>\n      <td>151910</td>\n      <td>9</td>\n      <td>0</td>\n      <td>0</td>\n      <td>40</td>\n      <td>0</td>\n      <td>0</td>\n      <td>1</td>\n      <td>0</td>\n      <td>...</td>\n      <td>0</td>\n      <td>0</td>\n      <td>0</td>\n      <td>0</td>\n      <td>0</td>\n      <td>1</td>\n      <td>0</td>\n      <td>0</td>\n      <td>0</td>\n      <td>0</td>\n    </tr>\n    <tr>\n      <th>32560</th>\n      <td>22</td>\n      <td>201490</td>\n      <td>9</td>\n      <td>0</td>\n      <td>0</td>\n      <td>20</td>\n      <td>0</td>\n      <td>0</td>\n      <td>1</td>\n      <td>0</td>\n      <td>...</td>\n      <td>0</td>\n      <td>0</td>\n      <td>0</td>\n      <td>0</td>\n      <td>0</td>\n      <td>1</td>\n      <td>0</td>\n      <td>0</td>\n      <td>0</td>\n      <td>0</td>\n    </tr>\n  </tbody>\n</table>\n<p>32561 rows × 100 columns</p>\n</div>"
     },
     "execution_count": 38,
     "metadata": {},
     "output_type": "execute_result"
    }
   ],
   "source": [
    "object_df = df.select_dtypes(include='object')\n",
    "numeric_df = df.select_dtypes(exclude='object')\n",
    "\n",
    "df_objects_dummies = pd.get_dummies(object_df, drop_first=True)\n",
    "df_encoded = pd.concat((numeric_df, df_objects_dummies), axis=1)\n",
    "df_encoded.info()\n",
    "df_encoded"
   ],
   "metadata": {
    "collapsed": false,
    "pycharm": {
     "name": "#%%\n"
    }
   }
  },
  {
   "cell_type": "code",
   "execution_count": 39,
   "outputs": [],
   "source": [
    "df_encoded.to_csv(processed_data_dir / file_name, index=False)"
   ],
   "metadata": {
    "collapsed": false,
    "pycharm": {
     "name": "#%%\n"
    }
   }
  }
 ],
 "metadata": {
  "kernelspec": {
   "display_name": "Python 3",
   "language": "python",
   "name": "python3"
  },
  "language_info": {
   "codemirror_mode": {
    "name": "ipython",
    "version": 2
   },
   "file_extension": ".py",
   "mimetype": "text/x-python",
   "name": "python",
   "nbconvert_exporter": "python",
   "pygments_lexer": "ipython2",
   "version": "2.7.6"
  }
 },
 "nbformat": 4,
 "nbformat_minor": 0
}